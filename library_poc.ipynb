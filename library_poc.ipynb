{
 "cells": [
  {
   "cell_type": "code",
   "execution_count": 1,
   "metadata": {},
   "outputs": [],
   "source": [
    "import requests\n",
    "from bs4 import BeautifulSoup"
   ]
  },
  {
   "cell_type": "code",
   "execution_count": 10,
   "metadata": {},
   "outputs": [
    {
     "name": "stdout",
     "output_type": "stream",
     "text": [
      "<meta charset=\"utf-8\" data-rh=\"true\"/>\n",
      "<meta content=\"width=device-width,minimum-scale=1,initial-scale=1\" data-rh=\"true\" name=\"viewport\"/>\n",
      "<meta content=\"#000000\" data-rh=\"true\" name=\"theme-color\"/>\n",
      "<meta content=\"Medium\" data-rh=\"true\" name=\"twitter:app:name:iphone\"/>\n",
      "<meta content=\"828256236\" data-rh=\"true\" name=\"twitter:app:id:iphone\"/>\n",
      "<meta content=\"Medium\" data-rh=\"true\" property=\"al:ios:app_name\"/>\n",
      "<meta content=\"828256236\" data-rh=\"true\" property=\"al:ios:app_store_id\"/>\n",
      "<meta content=\"com.medium.reader\" data-rh=\"true\" property=\"al:android:package\"/>\n",
      "<meta content=\"542599432471018\" data-rh=\"true\" property=\"fb:app_id\"/>\n",
      "<meta content=\"Medium\" data-rh=\"true\" property=\"og:site_name\"/>\n",
      "<meta content=\"article\" data-rh=\"true\" property=\"og:type\"/>\n",
      "<meta content=\"2019-12-24T16:23:52.243Z\" data-rh=\"true\" property=\"article:published_time\"/>\n",
      "<meta content=\"This Area of Game Theory can Help Reinforcement Learning to Scale to Infinite Agents\" data-rh=\"true\" name=\"title\"/>\n",
      "<meta content=\"This Area of Game Theory can Help Reinforcement Learning to Scale to Infinite Agents\" data-rh=\"true\" property=\"og:title\"/>\n",
      "<meta content=\"This Area of Game Theory can Help Reinforcement Learning to Scale to Infinite Agents\" data-rh=\"true\" property=\"twitter:title\"/>\n",
      "<meta content=\"@TDataScience\" data-rh=\"true\" name=\"twitter:site\"/>\n",
      "<meta content=\"medium://p/7c775a528726\" data-rh=\"true\" name=\"twitter:app:url:iphone\"/>\n",
      "<meta content=\"medium://p/7c775a528726\" data-rh=\"true\" property=\"al:android:url\"/>\n",
      "<meta content=\"medium://p/7c775a528726\" data-rh=\"true\" property=\"al:ios:url\"/>\n",
      "<meta content=\"Medium\" data-rh=\"true\" property=\"al:android:app_name\"/>\n",
      "<meta content=\"Reinforcement learning is one of the most popular areas of research in deep learning nowadays. Part of the popularity of reinforcement learning is due to the fact that is one of the learning methods…\" data-rh=\"true\" name=\"description\"/>\n",
      "<meta content=\"Mean Field Games provide a strong foundation for multi-agent reinforcement learning systems.\" data-rh=\"true\" property=\"og:description\"/>\n",
      "<meta content=\"Mean Field Games provide a strong foundation for multi-agent reinforcement learning systems.\" data-rh=\"true\" property=\"twitter:description\"/>\n",
      "<meta content=\"https://towardsdatascience.com/this-area-of-game-theory-can-help-reinforcement-learning-to-scale-to-infinite-agents-7c775a528726\" data-rh=\"true\" property=\"og:url\"/>\n",
      "<meta content=\"https://towardsdatascience.com/this-area-of-game-theory-can-help-reinforcement-learning-to-scale-to-infinite-agents-7c775a528726\" data-rh=\"true\" property=\"al:web:url\"/>\n",
      "<meta content=\"https://miro.medium.com/max/1024/1*WQvcF10RcUx4mCMrwCaDqw.png\" data-rh=\"true\" property=\"og:image\"/>\n",
      "<meta content=\"https://miro.medium.com/max/1024/1*WQvcF10RcUx4mCMrwCaDqw.png\" data-rh=\"true\" name=\"twitter:image:src\"/>\n",
      "<meta content=\"summary_large_image\" data-rh=\"true\" name=\"twitter:card\"/>\n",
      "<meta content=\"https://towardsdatascience.com/@jrodthoughts\" data-rh=\"true\" property=\"article:author\"/>\n",
      "<meta content=\"@jrdothoughts\" data-rh=\"true\" name=\"twitter:creator\"/>\n",
      "<meta content=\"Jesus Rodriguez\" data-rh=\"true\" name=\"author\"/>\n",
      "<meta content=\"index,follow\" data-rh=\"true\" name=\"robots\"/>\n",
      "<meta content=\"unsafe-url\" data-rh=\"true\" name=\"referrer\"/>\n",
      "<meta data-rh=\"true\" name=\"twitter:label1\" value=\"Reading time\"/>\n",
      "<meta data-rh=\"true\" name=\"twitter:data1\" value=\"5 min read\"/>\n",
      "<meta content=\"7c775a528726\" data-rh=\"true\" name=\"parsely-post-id\"/>\n"
     ]
    }
   ],
   "source": [
    "url = 'https://towardsdatascience.com/this-area-of-game-theory-can-help-reinforcement-learning-to-scale-to-infinite-agents-7c775a528726'\n",
    "response = requests.get(url)\n",
    "soup = BeautifulSoup(response.text)\n",
    "\n",
    "metas = soup.find_all('meta')\n",
    "\n",
    "for n in metas:\n",
    "    print(n)"
   ]
  },
  {
   "cell_type": "code",
   "execution_count": 6,
   "metadata": {},
   "outputs": [
    {
     "name": "stdout",
     "output_type": "stream",
     "text": [
      "['Search for and book Virgin Australia and partner flights to Australian and international destinations.']\n"
     ]
    }
   ],
   "source": [
    "print( [ meta.attrs['content'] for meta in metas if 'name' in meta.attrs and meta.attrs['name'] == 'description' ])"
   ]
  },
  {
   "cell_type": "code",
   "execution_count": null,
   "metadata": {},
   "outputs": [],
   "source": []
  }
 ],
 "metadata": {
  "kernelspec": {
   "display_name": "Python 3",
   "language": "python",
   "name": "python3"
  },
  "language_info": {
   "codemirror_mode": {
    "name": "ipython",
    "version": 3
   },
   "file_extension": ".py",
   "mimetype": "text/x-python",
   "name": "python",
   "nbconvert_exporter": "python",
   "pygments_lexer": "ipython3",
   "version": "3.7.3"
  }
 },
 "nbformat": 4,
 "nbformat_minor": 2
}
